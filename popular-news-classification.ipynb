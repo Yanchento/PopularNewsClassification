{
 "cells": [
  {
   "cell_type": "markdown",
   "id": "f8b5ec04",
   "metadata": {},
   "source": [
    "# Бинарная классификация популярных и непопулярных онлайн новостей"
   ]
  },
  {
   "cell_type": "code",
   "execution_count": 1,
   "id": "9a34436d",
   "metadata": {},
   "outputs": [],
   "source": [
    "import pandas as pd\n",
    "import numpy as np\n",
    "import matplotlib.pyplot as plt\n",
    "import seaborn as sns\n",
    "from sklearn.preprocessing import StandardScaler\n",
    "from sklearn.model_selection import train_test_split\n",
    "import sklearn.model_selection, sklearn.linear_model, sklearn.svm, sklearn.metrics\n",
    "from sklearn.tree import DecisionTreeClassifier\n",
    "from sklearn.ensemble import RandomForestClassifier\n",
    "from sklearn.linear_model import LogisticRegression, SGDClassifier\n",
    "from sklearn.neighbors import KNeighborsClassifier\n",
    "from sklearn.gaussian_process import GaussianProcessClassifier\n",
    "from sklearn.svm import SVC\n",
    "from sklearn.naive_bayes import GaussianNB\n",
    "from sklearn import svm\n",
    "from sklearn import metrics\n",
    "from sklearn.model_selection import GridSearchCV\n",
    "from sklearn.pipeline import Pipeline\n",
    "from sklearn.metrics import f1_score, accuracy_score\n",
    "import warnings\n",
    "warnings.filterwarnings(\"ignore\")"
   ]
  },
  {
   "cell_type": "markdown",
   "id": "2191248e",
   "metadata": {},
   "source": [
    "## 1. Предобработка данных"
   ]
  },
  {
   "cell_type": "code",
   "execution_count": 2,
   "id": "4d8a4b3a",
   "metadata": {},
   "outputs": [],
   "source": [
    "df = pd.read_csv('OnlineNewsPopularity.csv', sep = ',')"
   ]
  },
  {
   "cell_type": "code",
   "execution_count": 3,
   "id": "201c6d00",
   "metadata": {},
   "outputs": [
    {
     "data": {
      "text/html": [
       "<div>\n",
       "<style scoped>\n",
       "    .dataframe tbody tr th:only-of-type {\n",
       "        vertical-align: middle;\n",
       "    }\n",
       "\n",
       "    .dataframe tbody tr th {\n",
       "        vertical-align: top;\n",
       "    }\n",
       "\n",
       "    .dataframe thead th {\n",
       "        text-align: right;\n",
       "    }\n",
       "</style>\n",
       "<table border=\"1\" class=\"dataframe\">\n",
       "  <thead>\n",
       "    <tr style=\"text-align: right;\">\n",
       "      <th></th>\n",
       "      <th>url</th>\n",
       "      <th>timedelta</th>\n",
       "      <th>n_tokens_title</th>\n",
       "      <th>n_tokens_content</th>\n",
       "      <th>n_unique_tokens</th>\n",
       "      <th>n_non_stop_words</th>\n",
       "      <th>n_non_stop_unique_tokens</th>\n",
       "      <th>num_hrefs</th>\n",
       "      <th>num_self_hrefs</th>\n",
       "      <th>num_imgs</th>\n",
       "      <th>...</th>\n",
       "      <th>min_positive_polarity</th>\n",
       "      <th>max_positive_polarity</th>\n",
       "      <th>avg_negative_polarity</th>\n",
       "      <th>min_negative_polarity</th>\n",
       "      <th>max_negative_polarity</th>\n",
       "      <th>title_subjectivity</th>\n",
       "      <th>title_sentiment_polarity</th>\n",
       "      <th>abs_title_subjectivity</th>\n",
       "      <th>abs_title_sentiment_polarity</th>\n",
       "      <th>shares</th>\n",
       "    </tr>\n",
       "  </thead>\n",
       "  <tbody>\n",
       "    <tr>\n",
       "      <th>0</th>\n",
       "      <td>http://mashable.com/2013/01/07/amazon-instant-...</td>\n",
       "      <td>731.0</td>\n",
       "      <td>12.0</td>\n",
       "      <td>219.0</td>\n",
       "      <td>0.663594</td>\n",
       "      <td>1.0</td>\n",
       "      <td>0.815385</td>\n",
       "      <td>4.0</td>\n",
       "      <td>2.0</td>\n",
       "      <td>1.0</td>\n",
       "      <td>...</td>\n",
       "      <td>0.100000</td>\n",
       "      <td>0.7</td>\n",
       "      <td>-0.350000</td>\n",
       "      <td>-0.600</td>\n",
       "      <td>-0.200000</td>\n",
       "      <td>0.500000</td>\n",
       "      <td>-0.187500</td>\n",
       "      <td>0.000000</td>\n",
       "      <td>0.187500</td>\n",
       "      <td>593</td>\n",
       "    </tr>\n",
       "    <tr>\n",
       "      <th>1</th>\n",
       "      <td>http://mashable.com/2013/01/07/ap-samsung-spon...</td>\n",
       "      <td>731.0</td>\n",
       "      <td>9.0</td>\n",
       "      <td>255.0</td>\n",
       "      <td>0.604743</td>\n",
       "      <td>1.0</td>\n",
       "      <td>0.791946</td>\n",
       "      <td>3.0</td>\n",
       "      <td>1.0</td>\n",
       "      <td>1.0</td>\n",
       "      <td>...</td>\n",
       "      <td>0.033333</td>\n",
       "      <td>0.7</td>\n",
       "      <td>-0.118750</td>\n",
       "      <td>-0.125</td>\n",
       "      <td>-0.100000</td>\n",
       "      <td>0.000000</td>\n",
       "      <td>0.000000</td>\n",
       "      <td>0.500000</td>\n",
       "      <td>0.000000</td>\n",
       "      <td>711</td>\n",
       "    </tr>\n",
       "    <tr>\n",
       "      <th>2</th>\n",
       "      <td>http://mashable.com/2013/01/07/apple-40-billio...</td>\n",
       "      <td>731.0</td>\n",
       "      <td>9.0</td>\n",
       "      <td>211.0</td>\n",
       "      <td>0.575130</td>\n",
       "      <td>1.0</td>\n",
       "      <td>0.663866</td>\n",
       "      <td>3.0</td>\n",
       "      <td>1.0</td>\n",
       "      <td>1.0</td>\n",
       "      <td>...</td>\n",
       "      <td>0.100000</td>\n",
       "      <td>1.0</td>\n",
       "      <td>-0.466667</td>\n",
       "      <td>-0.800</td>\n",
       "      <td>-0.133333</td>\n",
       "      <td>0.000000</td>\n",
       "      <td>0.000000</td>\n",
       "      <td>0.500000</td>\n",
       "      <td>0.000000</td>\n",
       "      <td>1500</td>\n",
       "    </tr>\n",
       "    <tr>\n",
       "      <th>3</th>\n",
       "      <td>http://mashable.com/2013/01/07/astronaut-notre...</td>\n",
       "      <td>731.0</td>\n",
       "      <td>9.0</td>\n",
       "      <td>531.0</td>\n",
       "      <td>0.503788</td>\n",
       "      <td>1.0</td>\n",
       "      <td>0.665635</td>\n",
       "      <td>9.0</td>\n",
       "      <td>0.0</td>\n",
       "      <td>1.0</td>\n",
       "      <td>...</td>\n",
       "      <td>0.136364</td>\n",
       "      <td>0.8</td>\n",
       "      <td>-0.369697</td>\n",
       "      <td>-0.600</td>\n",
       "      <td>-0.166667</td>\n",
       "      <td>0.000000</td>\n",
       "      <td>0.000000</td>\n",
       "      <td>0.500000</td>\n",
       "      <td>0.000000</td>\n",
       "      <td>1200</td>\n",
       "    </tr>\n",
       "    <tr>\n",
       "      <th>4</th>\n",
       "      <td>http://mashable.com/2013/01/07/att-u-verse-apps/</td>\n",
       "      <td>731.0</td>\n",
       "      <td>13.0</td>\n",
       "      <td>1072.0</td>\n",
       "      <td>0.415646</td>\n",
       "      <td>1.0</td>\n",
       "      <td>0.540890</td>\n",
       "      <td>19.0</td>\n",
       "      <td>19.0</td>\n",
       "      <td>20.0</td>\n",
       "      <td>...</td>\n",
       "      <td>0.033333</td>\n",
       "      <td>1.0</td>\n",
       "      <td>-0.220192</td>\n",
       "      <td>-0.500</td>\n",
       "      <td>-0.050000</td>\n",
       "      <td>0.454545</td>\n",
       "      <td>0.136364</td>\n",
       "      <td>0.045455</td>\n",
       "      <td>0.136364</td>\n",
       "      <td>505</td>\n",
       "    </tr>\n",
       "  </tbody>\n",
       "</table>\n",
       "<p>5 rows × 61 columns</p>\n",
       "</div>"
      ],
      "text/plain": [
       "                                                 url   timedelta  \\\n",
       "0  http://mashable.com/2013/01/07/amazon-instant-...       731.0   \n",
       "1  http://mashable.com/2013/01/07/ap-samsung-spon...       731.0   \n",
       "2  http://mashable.com/2013/01/07/apple-40-billio...       731.0   \n",
       "3  http://mashable.com/2013/01/07/astronaut-notre...       731.0   \n",
       "4   http://mashable.com/2013/01/07/att-u-verse-apps/       731.0   \n",
       "\n",
       "    n_tokens_title   n_tokens_content   n_unique_tokens   n_non_stop_words  \\\n",
       "0             12.0              219.0          0.663594                1.0   \n",
       "1              9.0              255.0          0.604743                1.0   \n",
       "2              9.0              211.0          0.575130                1.0   \n",
       "3              9.0              531.0          0.503788                1.0   \n",
       "4             13.0             1072.0          0.415646                1.0   \n",
       "\n",
       "    n_non_stop_unique_tokens   num_hrefs   num_self_hrefs   num_imgs  ...  \\\n",
       "0                   0.815385         4.0              2.0        1.0  ...   \n",
       "1                   0.791946         3.0              1.0        1.0  ...   \n",
       "2                   0.663866         3.0              1.0        1.0  ...   \n",
       "3                   0.665635         9.0              0.0        1.0  ...   \n",
       "4                   0.540890        19.0             19.0       20.0  ...   \n",
       "\n",
       "    min_positive_polarity   max_positive_polarity   avg_negative_polarity  \\\n",
       "0                0.100000                     0.7               -0.350000   \n",
       "1                0.033333                     0.7               -0.118750   \n",
       "2                0.100000                     1.0               -0.466667   \n",
       "3                0.136364                     0.8               -0.369697   \n",
       "4                0.033333                     1.0               -0.220192   \n",
       "\n",
       "    min_negative_polarity   max_negative_polarity   title_subjectivity  \\\n",
       "0                  -0.600               -0.200000             0.500000   \n",
       "1                  -0.125               -0.100000             0.000000   \n",
       "2                  -0.800               -0.133333             0.000000   \n",
       "3                  -0.600               -0.166667             0.000000   \n",
       "4                  -0.500               -0.050000             0.454545   \n",
       "\n",
       "    title_sentiment_polarity   abs_title_subjectivity  \\\n",
       "0                  -0.187500                 0.000000   \n",
       "1                   0.000000                 0.500000   \n",
       "2                   0.000000                 0.500000   \n",
       "3                   0.000000                 0.500000   \n",
       "4                   0.136364                 0.045455   \n",
       "\n",
       "    abs_title_sentiment_polarity   shares  \n",
       "0                       0.187500      593  \n",
       "1                       0.000000      711  \n",
       "2                       0.000000     1500  \n",
       "3                       0.000000     1200  \n",
       "4                       0.136364      505  \n",
       "\n",
       "[5 rows x 61 columns]"
      ]
     },
     "execution_count": 3,
     "metadata": {},
     "output_type": "execute_result"
    }
   ],
   "source": [
    "df.head()"
   ]
  },
  {
   "cell_type": "code",
   "execution_count": 4,
   "id": "b666f0ad",
   "metadata": {},
   "outputs": [
    {
     "data": {
      "text/plain": [
       "(39644, 61)"
      ]
     },
     "execution_count": 4,
     "metadata": {},
     "output_type": "execute_result"
    }
   ],
   "source": [
    "df.shape"
   ]
  },
  {
   "cell_type": "code",
   "execution_count": 5,
   "id": "eea39497",
   "metadata": {},
   "outputs": [
    {
     "name": "stdout",
     "output_type": "stream",
     "text": [
      "<class 'pandas.core.frame.DataFrame'>\n",
      "RangeIndex: 39644 entries, 0 to 39643\n",
      "Data columns (total 61 columns):\n",
      " #   Column                          Non-Null Count  Dtype  \n",
      "---  ------                          --------------  -----  \n",
      " 0   url                             39644 non-null  object \n",
      " 1    timedelta                      39644 non-null  float64\n",
      " 2    n_tokens_title                 39644 non-null  float64\n",
      " 3    n_tokens_content               39644 non-null  float64\n",
      " 4    n_unique_tokens                39644 non-null  float64\n",
      " 5    n_non_stop_words               39644 non-null  float64\n",
      " 6    n_non_stop_unique_tokens       39644 non-null  float64\n",
      " 7    num_hrefs                      39644 non-null  float64\n",
      " 8    num_self_hrefs                 39644 non-null  float64\n",
      " 9    num_imgs                       39644 non-null  float64\n",
      " 10   num_videos                     39644 non-null  float64\n",
      " 11   average_token_length           39644 non-null  float64\n",
      " 12   num_keywords                   39644 non-null  float64\n",
      " 13   data_channel_is_lifestyle      39644 non-null  float64\n",
      " 14   data_channel_is_entertainment  39644 non-null  float64\n",
      " 15   data_channel_is_bus            39644 non-null  float64\n",
      " 16   data_channel_is_socmed         39644 non-null  float64\n",
      " 17   data_channel_is_tech           39644 non-null  float64\n",
      " 18   data_channel_is_world          39644 non-null  float64\n",
      " 19   kw_min_min                     39644 non-null  float64\n",
      " 20   kw_max_min                     39644 non-null  float64\n",
      " 21   kw_avg_min                     39644 non-null  float64\n",
      " 22   kw_min_max                     39644 non-null  float64\n",
      " 23   kw_max_max                     39644 non-null  float64\n",
      " 24   kw_avg_max                     39644 non-null  float64\n",
      " 25   kw_min_avg                     39644 non-null  float64\n",
      " 26   kw_max_avg                     39644 non-null  float64\n",
      " 27   kw_avg_avg                     39644 non-null  float64\n",
      " 28   self_reference_min_shares      39644 non-null  float64\n",
      " 29   self_reference_max_shares      39644 non-null  float64\n",
      " 30   self_reference_avg_sharess     39644 non-null  float64\n",
      " 31   weekday_is_monday              39644 non-null  float64\n",
      " 32   weekday_is_tuesday             39644 non-null  float64\n",
      " 33   weekday_is_wednesday           39644 non-null  float64\n",
      " 34   weekday_is_thursday            39644 non-null  float64\n",
      " 35   weekday_is_friday              39644 non-null  float64\n",
      " 36   weekday_is_saturday            39644 non-null  float64\n",
      " 37   weekday_is_sunday              39644 non-null  float64\n",
      " 38   is_weekend                     39644 non-null  float64\n",
      " 39   LDA_00                         39644 non-null  float64\n",
      " 40   LDA_01                         39644 non-null  float64\n",
      " 41   LDA_02                         39644 non-null  float64\n",
      " 42   LDA_03                         39644 non-null  float64\n",
      " 43   LDA_04                         39644 non-null  float64\n",
      " 44   global_subjectivity            39644 non-null  float64\n",
      " 45   global_sentiment_polarity      39644 non-null  float64\n",
      " 46   global_rate_positive_words     39644 non-null  float64\n",
      " 47   global_rate_negative_words     39644 non-null  float64\n",
      " 48   rate_positive_words            39644 non-null  float64\n",
      " 49   rate_negative_words            39644 non-null  float64\n",
      " 50   avg_positive_polarity          39644 non-null  float64\n",
      " 51   min_positive_polarity          39644 non-null  float64\n",
      " 52   max_positive_polarity          39644 non-null  float64\n",
      " 53   avg_negative_polarity          39644 non-null  float64\n",
      " 54   min_negative_polarity          39644 non-null  float64\n",
      " 55   max_negative_polarity          39644 non-null  float64\n",
      " 56   title_subjectivity             39644 non-null  float64\n",
      " 57   title_sentiment_polarity       39644 non-null  float64\n",
      " 58   abs_title_subjectivity         39644 non-null  float64\n",
      " 59   abs_title_sentiment_polarity   39644 non-null  float64\n",
      " 60   shares                         39644 non-null  int64  \n",
      "dtypes: float64(59), int64(1), object(1)\n",
      "memory usage: 18.5+ MB\n"
     ]
    }
   ],
   "source": [
    "df.info()"
   ]
  },
  {
   "cell_type": "markdown",
   "id": "cada6e88",
   "metadata": {},
   "source": [
    "Пропусков данных нет, категориальный столбец - url"
   ]
  },
  {
   "cell_type": "code",
   "execution_count": 6,
   "id": "08344228",
   "metadata": {},
   "outputs": [],
   "source": [
    "df.drop('url', axis = 1, inplace = True)"
   ]
  },
  {
   "cell_type": "markdown",
   "id": "82de3fed",
   "metadata": {},
   "source": [
    "## 2. Выбор целевой переменной и задачи машинного обучения"
   ]
  },
  {
   "cell_type": "markdown",
   "id": "85e1e402",
   "metadata": {},
   "source": [
    "Предполагается решение задачи бинарной классификации популярных и непопулярных онлайн новостей.\n",
    "\n",
    "Целевой переменной было выбрано 'shares', которая была перекодирована в бинарном виде:\n",
    "- если shares < 1400, то shares = 0, т. е. новость непопулярна\n",
    "- если shares >= 1400, то shares = 1, т. е. новость популярна"
   ]
  },
  {
   "cell_type": "code",
   "execution_count": 7,
   "id": "4faca360",
   "metadata": {},
   "outputs": [],
   "source": [
    "for i in range(len(df[' shares'])):\n",
    "    if (df[' shares'][i] < 1400):\n",
    "        df[' shares'][i] = '0'\n",
    "    else:\n",
    "        df[' shares'][i] = '1'"
   ]
  },
  {
   "cell_type": "code",
   "execution_count": 8,
   "id": "4f9e467a",
   "metadata": {},
   "outputs": [
    {
     "data": {
      "image/png": "[encoded data removed]",
      "text/plain": [
       "<Figure size 1296x576 with 2 Axes>"
      ]
     },
     "metadata": {
      "needs_background": "light"
     },
     "output_type": "display_data"
    }
   ],
   "source": [
    "plt.figure(figsize=(18, 8))\n",
    "plt.subplot(1, 2, 1)\n",
    "df[' shares'].value_counts().plot(kind=\"pie\",\n",
    "                                           fontsize=16,\n",
    "                                           labels=['Непопулярные', 'Популярные'],\n",
    "                                           ylabel=\"Баланс категорий\",\n",
    "                                           autopct='%1.1f%%');\n",
    "\n",
    "plt.subplot(1, 2, 2)\n",
    "sns.countplot(x=df[' shares'],data=df, palette=\"pastel\")\n",
    "plt.show()"
   ]
  },
  {
   "cell_type": "markdown",
   "id": "af6e06f2",
   "metadata": {},
   "source": [
    "Выделим целевую переменную:"
   ]
  },
  {
   "cell_type": "code",
   "execution_count": 9,
   "id": "a70de9b3",
   "metadata": {},
   "outputs": [],
   "source": [
    "X = df.drop(' shares', axis = 1)\n",
    "y = df[' shares']\n",
    "y = y.astype(int)"
   ]
  },
  {
   "cell_type": "markdown",
   "id": "d7b5c00e",
   "metadata": {},
   "source": [
    "Нормализуем данные:"
   ]
  },
  {
   "cell_type": "code",
   "execution_count": 10,
   "id": "ac053f1d",
   "metadata": {},
   "outputs": [],
   "source": [
    "scaler = StandardScaler()\n",
    "scaler.fit(X)\n",
    "X = scaler.transform(X)"
   ]
  },
  {
   "cell_type": "markdown",
   "id": "4b18c803",
   "metadata": {},
   "source": [
    "## 3. Решение задачи машинного обучения"
   ]
  },
  {
   "cell_type": "markdown",
   "id": "c8ce2b49",
   "metadata": {},
   "source": [
    "Рассмотрим несколько моделей машинного обучения.\n",
    "\n",
    "### 1. Logistic Regression"
   ]
  },
  {
   "cell_type": "code",
   "execution_count": 11,
   "id": "8bec235e",
   "metadata": {},
   "outputs": [],
   "source": [
    "X_train, X_test, y_train, y_test = train_test_split(X, y, test_size = 0.33, random_state = 777)"
   ]
  },
  {
   "cell_type": "code",
   "execution_count": 12,
   "id": "c3fbb229",
   "metadata": {},
   "outputs": [
    {
     "name": "stdout",
     "output_type": "stream",
     "text": [
      "{'C': 100, 'penalty': 'l2'}\n",
      "0.6533263417872507\n",
      "Wall time: 11.4 s\n"
     ]
    }
   ],
   "source": [
    "%%time\n",
    "logreg = LogisticRegression()\n",
    "parameters = [{\n",
    "    'penalty': ('l1','l2', 'elasticnet',None),\n",
    "    'C': (100, 10, 1.0, 0.1, 0.01)\n",
    "}]\n",
    "\n",
    "grid_search = GridSearchCV(logreg, parameters)\n",
    "grid_search.fit(X_train, y_train)\n",
    "print(grid_search.best_params_)\n",
    "print(grid_search.best_score_)"
   ]
  },
  {
   "cell_type": "code",
   "execution_count": 13,
   "id": "636b14e4",
   "metadata": {},
   "outputs": [
    {
     "name": "stdout",
     "output_type": "stream",
     "text": [
      "              precision    recall  f1-score   support\n",
      "\n",
      "           0       0.64      0.61      0.62      6134\n",
      "           1       0.67      0.70      0.68      6949\n",
      "\n",
      "    accuracy                           0.66     13083\n",
      "   macro avg       0.65      0.65      0.65     13083\n",
      "weighted avg       0.66      0.66      0.66     13083\n",
      "\n"
     ]
    }
   ],
   "source": [
    "model_logreg = grid_search.best_estimator_\n",
    "model_logreg.fit(X_train, y_train)\n",
    "y_pred = (model_logreg.predict_proba(X_test)[:, 1] > 0.5).astype(int)\n",
    "print(metrics.classification_report(y_test, y_pred))"
   ]
  },
  {
   "cell_type": "markdown",
   "id": "f7c7636a",
   "metadata": {},
   "source": [
    "### 2. KNN"
   ]
  },
  {
   "cell_type": "code",
   "execution_count": 14,
   "id": "f9852309",
   "metadata": {},
   "outputs": [
    {
     "name": "stdout",
     "output_type": "stream",
     "text": [
      "Fitting 5 folds for each of 30 candidates, totalling 150 fits\n",
      "{'n_neighbors': 29}\n",
      "0.6336363877304814\n"
     ]
    }
   ],
   "source": [
    "KNNModel = KNeighborsClassifier()\n",
    "param_grid = dict(n_neighbors=list(range(1, 31)))\n",
    "grid_search = GridSearchCV(KNNModel, param_grid, cv=5, scoring='accuracy', return_train_score=False, verbose=1)\n",
    "grid_search.fit(X_train, y_train)\n",
    "print(grid_search.best_params_)\n",
    "print(grid_search.best_score_)"
   ]
  },
  {
   "cell_type": "code",
   "execution_count": 15,
   "id": "33b8582d",
   "metadata": {},
   "outputs": [
    {
     "name": "stdout",
     "output_type": "stream",
     "text": [
      "              precision    recall  f1-score   support\n",
      "\n",
      "           0       0.67      0.43      0.52      6134\n",
      "           1       0.62      0.81      0.70      6949\n",
      "\n",
      "    accuracy                           0.63     13083\n",
      "   macro avg       0.64      0.62      0.61     13083\n",
      "weighted avg       0.64      0.63      0.62     13083\n",
      "\n"
     ]
    }
   ],
   "source": [
    "KNNModel = grid_search.best_estimator_\n",
    "KNNModel.fit(X_train, y_train)\n",
    "y_pred = (KNNModel.predict_proba(X_test)[:, 1] > 0.4).astype(int)\n",
    "print(metrics.classification_report(y_test, y_pred))"
   ]
  },
  {
   "cell_type": "markdown",
   "id": "bb586333",
   "metadata": {},
   "source": [
    "### 3. Naive Bayes"
   ]
  },
  {
   "cell_type": "code",
   "execution_count": 16,
   "id": "92a92977",
   "metadata": {},
   "outputs": [
    {
     "name": "stdout",
     "output_type": "stream",
     "text": [
      "Fitting 5 folds for each of 100 candidates, totalling 500 fits\n",
      "{'var_smoothing': 0.0533669923120631}\n",
      "0.5453868055508313\n"
     ]
    }
   ],
   "source": [
    "naive = GaussianNB()\n",
    "param_grid = {\n",
    "    'var_smoothing': np.logspace(0,-9, num=100)\n",
    "}\n",
    "grid_search = GridSearchCV(naive, param_grid, cv=5, scoring='accuracy', return_train_score=False, verbose=1)\n",
    "grid_search.fit(X_train, y_train)\n",
    "print(grid_search.best_params_)\n",
    "print(grid_search.best_score_)"
   ]
  },
  {
   "cell_type": "code",
   "execution_count": 17,
   "id": "c2549311",
   "metadata": {},
   "outputs": [
    {
     "name": "stdout",
     "output_type": "stream",
     "text": [
      "              precision    recall  f1-score   support\n",
      "\n",
      "           0       0.51      0.93      0.66      6134\n",
      "           1       0.77      0.20      0.31      6949\n",
      "\n",
      "    accuracy                           0.54     13083\n",
      "   macro avg       0.64      0.57      0.49     13083\n",
      "weighted avg       0.65      0.54      0.47     13083\n",
      "\n"
     ]
    }
   ],
   "source": [
    "naive = grid_search.best_estimator_\n",
    "naive.fit(X_train, y_train)\n",
    "y_pred = (naive.predict_proba(X_test)[:, 1] > 0.5).astype(int)\n",
    "print(metrics.classification_report(y_test, y_pred))"
   ]
  },
  {
   "cell_type": "markdown",
   "id": "2603b266",
   "metadata": {},
   "source": [
    "### 4. Decision Tree"
   ]
  },
  {
   "cell_type": "code",
   "execution_count": 18,
   "id": "9027d826",
   "metadata": {},
   "outputs": [
    {
     "name": "stdout",
     "output_type": "stream",
     "text": [
      "Fitting 3 folds for each of 28 candidates, totalling 84 fits\n",
      "{'criterion': 'entropy', 'max_depth': 5}\n",
      "0.6353297757745237\n"
     ]
    }
   ],
   "source": [
    "dtc = DecisionTreeClassifier()\n",
    "param_grid = {\n",
    "    'criterion':['gini','entropy'],\n",
    "    'max_depth':[4,5,6,7,8,9,10,11,12,15,20,30,40,50]\n",
    "    }\n",
    "grid_search = GridSearchCV(dtc, param_grid, cv=3, scoring='accuracy', return_train_score=False, verbose=1)\n",
    "grid_search.fit(X_train, y_train)\n",
    "print(grid_search.best_params_)\n",
    "print(grid_search.best_score_)"
   ]
  },
  {
   "cell_type": "code",
   "execution_count": 19,
   "id": "d2bb8e72",
   "metadata": {},
   "outputs": [
    {
     "name": "stdout",
     "output_type": "stream",
     "text": [
      "              precision    recall  f1-score   support\n",
      "\n",
      "           0       0.64      0.57      0.60      6134\n",
      "           1       0.65      0.71      0.68      6949\n",
      "\n",
      "    accuracy                           0.65     13083\n",
      "   macro avg       0.64      0.64      0.64     13083\n",
      "weighted avg       0.64      0.65      0.64     13083\n",
      "\n"
     ]
    }
   ],
   "source": [
    "dtc = grid_search.best_estimator_\n",
    "dtc.fit(X_train, y_train)\n",
    "y_pred = (dtc.predict_proba(X_test)[:, 1] > 0.5).astype(int)\n",
    "print(metrics.classification_report(y_test, y_pred))"
   ]
  },
  {
   "cell_type": "markdown",
   "id": "633f769d",
   "metadata": {},
   "source": [
    "### 5. Random Forest"
   ]
  },
  {
   "cell_type": "code",
   "execution_count": 24,
   "id": "601b9dd1",
   "metadata": {},
   "outputs": [
    {
     "name": "stdout",
     "output_type": "stream",
     "text": [
      "Fitting 3 folds for each of 40 candidates, totalling 120 fits\n",
      "{'criterion': 'entropy', 'max_depth': 8, 'max_features': 'sqrt', 'n_estimators': 500}\n",
      "0.6633034278315686\n"
     ]
    }
   ],
   "source": [
    "rfc = RandomForestClassifier()\n",
    "param_grid = {\n",
    "    'n_estimators': [200, 500],\n",
    "    'max_features': ['auto', 'sqrt'],\n",
    "    'max_depth' : [4,5,6,7,8],\n",
    "    'criterion' :['gini', 'entropy']\n",
    "    }\n",
    "grid_search = GridSearchCV(rfc, param_grid, cv=3, scoring='accuracy', return_train_score=False, verbose=1)\n",
    "grid_search.fit(X_train, y_train)\n",
    "print(grid_search.best_params_)\n",
    "print(grid_search.best_score_)"
   ]
  },
  {
   "cell_type": "code",
   "execution_count": 25,
   "id": "46160a7b",
   "metadata": {},
   "outputs": [
    {
     "name": "stdout",
     "output_type": "stream",
     "text": [
      "              precision    recall  f1-score   support\n",
      "\n",
      "           0       0.68      0.56      0.61      6134\n",
      "           1       0.66      0.76      0.71      6949\n",
      "\n",
      "    accuracy                           0.67     13083\n",
      "   macro avg       0.67      0.66      0.66     13083\n",
      "weighted avg       0.67      0.67      0.66     13083\n",
      "\n"
     ]
    }
   ],
   "source": [
    "rfc = grid_search.best_estimator_\n",
    "rfc.fit(X_train, y_train)\n",
    "y_pred = (grid_search.predict_proba(X_test)[:, 1] > 0.5).astype(int)\n",
    "print(metrics.classification_report(y_test, y_pred))"
   ]
  },
  {
   "cell_type": "code",
   "execution_count": 26,
   "id": "f4d70d31",
   "metadata": {
    "scrolled": false
   },
   "outputs": [
    {
     "data": {
      "image/png": "[encoded data removed]",
      "text/plain": [
       "<Figure size 1296x576 with 1 Axes>"
      ]
     },
     "metadata": {
      "needs_background": "light"
     },
     "output_type": "display_data"
    }
   ],
   "source": [
    "importance = rfc.feature_importances_\n",
    "plt.figure(figsize=(18, 8))\n",
    "plt.bar([x for x in range(1, 60)], importance)\n",
    "plt.show()"
   ]
  },
  {
   "cell_type": "code",
   "execution_count": 38,
   "id": "cc294c3c",
   "metadata": {},
   "outputs": [],
   "source": [
    "arr = []\n",
    "for i in range(len(importances)):\n",
    "    if (importances[i] < 0.005):\n",
    "        arr.append(i)\n",
    "\n",
    "df_test = df.copy()\n",
    "\n",
    "df_test = df_test.drop(df_test.columns[arr],axis = 1)"
   ]
  },
  {
   "cell_type": "code",
   "execution_count": 42,
   "id": "61a18175",
   "metadata": {},
   "outputs": [
    {
     "name": "stdout",
     "output_type": "stream",
     "text": [
      "<class 'pandas.core.frame.DataFrame'>\n",
      "RangeIndex: 39644 entries, 0 to 39643\n",
      "Data columns (total 46 columns):\n",
      " #   Column                          Non-Null Count  Dtype  \n",
      "---  ------                          --------------  -----  \n",
      " 0    timedelta                      39644 non-null  float64\n",
      " 1    n_tokens_title                 39644 non-null  float64\n",
      " 2    n_tokens_content               39644 non-null  float64\n",
      " 3    n_unique_tokens                39644 non-null  float64\n",
      " 4    n_non_stop_unique_tokens       39644 non-null  float64\n",
      " 5    num_hrefs                      39644 non-null  float64\n",
      " 6    num_self_hrefs                 39644 non-null  float64\n",
      " 7    num_imgs                       39644 non-null  float64\n",
      " 8    average_token_length           39644 non-null  float64\n",
      " 9    num_keywords                   39644 non-null  float64\n",
      " 10   data_channel_is_entertainment  39644 non-null  float64\n",
      " 11   data_channel_is_socmed         39644 non-null  float64\n",
      " 12   data_channel_is_tech           39644 non-null  float64\n",
      " 13   data_channel_is_world          39644 non-null  float64\n",
      " 14   kw_min_min                     39644 non-null  float64\n",
      " 15   kw_max_min                     39644 non-null  float64\n",
      " 16   kw_avg_min                     39644 non-null  float64\n",
      " 17   kw_min_max                     39644 non-null  float64\n",
      " 18   kw_max_max                     39644 non-null  float64\n",
      " 19   kw_avg_max                     39644 non-null  float64\n",
      " 20   kw_min_avg                     39644 non-null  float64\n",
      " 21   kw_max_avg                     39644 non-null  float64\n",
      " 22   kw_avg_avg                     39644 non-null  float64\n",
      " 23   self_reference_min_shares      39644 non-null  float64\n",
      " 24   self_reference_max_shares      39644 non-null  float64\n",
      " 25   self_reference_avg_sharess     39644 non-null  float64\n",
      " 26   weekday_is_saturday            39644 non-null  float64\n",
      " 27   weekday_is_sunday              39644 non-null  float64\n",
      " 28   is_weekend                     39644 non-null  float64\n",
      " 29   LDA_00                         39644 non-null  float64\n",
      " 30   LDA_01                         39644 non-null  float64\n",
      " 31   LDA_02                         39644 non-null  float64\n",
      " 32   LDA_03                         39644 non-null  float64\n",
      " 33   LDA_04                         39644 non-null  float64\n",
      " 34   global_subjectivity            39644 non-null  float64\n",
      " 35   global_sentiment_polarity      39644 non-null  float64\n",
      " 36   global_rate_positive_words     39644 non-null  float64\n",
      " 37   global_rate_negative_words     39644 non-null  float64\n",
      " 38   rate_positive_words            39644 non-null  float64\n",
      " 39   rate_negative_words            39644 non-null  float64\n",
      " 40   avg_positive_polarity          39644 non-null  float64\n",
      " 41   min_positive_polarity          39644 non-null  float64\n",
      " 42   avg_negative_polarity          39644 non-null  float64\n",
      " 43   min_negative_polarity          39644 non-null  float64\n",
      " 44   title_sentiment_polarity       39644 non-null  float64\n",
      " 45   shares                         39644 non-null  int64  \n",
      "dtypes: float64(45), int64(1)\n",
      "memory usage: 13.9 MB\n"
     ]
    }
   ],
   "source": [
    "df_test.info()"
   ]
  },
  {
   "cell_type": "markdown",
   "id": "cb201ba7",
   "metadata": {},
   "source": [
    "### Сравнение моделей"
   ]
  },
  {
   "cell_type": "code",
   "execution_count": 31,
   "id": "12c1ea91",
   "metadata": {},
   "outputs": [
    {
     "data": {
      "image/png": "[encoded data removed]",
      "text/plain": [
       "<Figure size 1152x576 with 1 Axes>"
      ]
     },
     "metadata": {
      "needs_background": "light"
     },
     "output_type": "display_data"
    }
   ],
   "source": [
    "trainScores = [model_logreg.score(X_train, y_train), KNNModel.score(X_train, y_train), rfc.score(X_train, y_train), dtc.score(X_train, y_train), naive.score(X_train, y_train)]\n",
    "testScores = [model_logreg.score(X_test, y_test), KNNModel.score(X_test, y_test), rfc.score(X_test, y_test), dtc.score(X_test, y_test), naive.score(X_train, y_train)]\n",
    "indices = ['Logistic Regression', 'KNN', 'RandomForest', 'DecisionTree', 'NaiveBayes']\n",
    "scores = pd.DataFrame({'Тренировочный результат': trainScores,'Тестовый результат': testScores}, index=indices)\n",
    "plot = scores.plot.bar(figsize=(16, 8), rot=0, color=['#df6589ff', '#3c1053ff'])\n",
    "plt.title('Тренировочные и тестовые результаты')\n",
    "plt.show()"
   ]
  },
  {
   "cell_type": "code",
   "execution_count": 32,
   "id": "af8ccb3e",
   "metadata": {},
   "outputs": [
    {
     "data": {
      "text/html": [
       "<div>\n",
       "<style scoped>\n",
       "    .dataframe tbody tr th:only-of-type {\n",
       "        vertical-align: middle;\n",
       "    }\n",
       "\n",
       "    .dataframe tbody tr th {\n",
       "        vertical-align: top;\n",
       "    }\n",
       "\n",
       "    .dataframe thead th {\n",
       "        text-align: right;\n",
       "    }\n",
       "</style>\n",
       "<table border=\"1\" class=\"dataframe\">\n",
       "  <thead>\n",
       "    <tr style=\"text-align: right;\">\n",
       "      <th></th>\n",
       "      <th>Тренировочный результат</th>\n",
       "      <th>Тестовый результат</th>\n",
       "    </tr>\n",
       "  </thead>\n",
       "  <tbody>\n",
       "    <tr>\n",
       "      <th>Logistic Regression</th>\n",
       "      <td>0.655021</td>\n",
       "      <td>0.655966</td>\n",
       "    </tr>\n",
       "    <tr>\n",
       "      <th>KNN</th>\n",
       "      <td>0.666014</td>\n",
       "      <td>0.639914</td>\n",
       "    </tr>\n",
       "    <tr>\n",
       "      <th>RandomForest</th>\n",
       "      <td>0.712021</td>\n",
       "      <td>0.667890</td>\n",
       "    </tr>\n",
       "    <tr>\n",
       "      <th>DecisionTree</th>\n",
       "      <td>0.644366</td>\n",
       "      <td>0.645571</td>\n",
       "    </tr>\n",
       "    <tr>\n",
       "      <th>NaiveBayes</th>\n",
       "      <td>0.537630</td>\n",
       "      <td>0.537630</td>\n",
       "    </tr>\n",
       "  </tbody>\n",
       "</table>\n",
       "</div>"
      ],
      "text/plain": [
       "                     Тренировочный результат  Тестовый результат\n",
       "Logistic Regression                 0.655021            0.655966\n",
       "KNN                                 0.666014            0.639914\n",
       "RandomForest                        0.712021            0.667890\n",
       "DecisionTree                        0.644366            0.645571\n",
       "NaiveBayes                          0.537630            0.537630"
      ]
     },
     "execution_count": 32,
     "metadata": {},
     "output_type": "execute_result"
    }
   ],
   "source": [
    "scores"
   ]
  },
  {
   "cell_type": "code",
   "execution_count": 33,
   "id": "a9ba599b",
   "metadata": {},
   "outputs": [],
   "source": [
    "predRegression = model_logreg.predict(X_test)\n",
    "predKNN = KNNModel.predict(X_test)\n",
    "predRandomF = rfc.predict(X_test)\n",
    "predDTree = dtc.predict(X_test)\n",
    "predNaive = naive.predict(X_test)\n",
    "predVals = pd.DataFrame(data={'truth': y_test, 'regression': predRegression, 'knn': predKNN, 'random-forest': predRandomF, 'decision-tree': predDTree, 'naive-bayes': predNaive})"
   ]
  },
  {
   "cell_type": "code",
   "execution_count": 34,
   "id": "58e8356a",
   "metadata": {},
   "outputs": [
    {
     "data": {
      "image/png": "[encoded data removed]",
      "text/plain": [
       "<Figure size 1152x1008 with 10 Axes>"
      ]
     },
     "metadata": {
      "needs_background": "light"
     },
     "output_type": "display_data"
    }
   ],
   "source": [
    "plt.figure(figsize=(16, 14))\n",
    "plt.subplot(3, 3, 1)\n",
    "sns.heatmap(sklearn.metrics.confusion_matrix(y_test, predRegression), annot=True).set(title='Logistic Regression')\n",
    "plt.subplot(3, 3, 2)\n",
    "sns.heatmap(sklearn.metrics.confusion_matrix(y_test, predKNN), annot=True).set(title='KNN')\n",
    "plt.subplot(3, 3, 3)\n",
    "sns.heatmap(sklearn.metrics.confusion_matrix(y_test, predRandomF), annot=True).set(title='Random Forest')\n",
    "plt.subplot(3, 3, 4)\n",
    "sns.heatmap(sklearn.metrics.confusion_matrix(y_test, predDTree), annot=True).set(title='Decision Tree')\n",
    "plt.subplot(3, 3, 5)\n",
    "sns.heatmap(sklearn.metrics.confusion_matrix(y_test, predNaive), annot=True).set(title='Naive Bayes')\n",
    "plt.suptitle('Confusion matrices')\n",
    "plt.show()"
   ]
  },
  {
   "cell_type": "code",
   "execution_count": null,
   "id": "72298f15",
   "metadata": {},
   "outputs": [],
   "source": []
  },
  {
   "cell_type": "markdown",
   "id": "f9b49d5f",
   "metadata": {},
   "source": [
    "## 4. Анализ точности решения и необходимости доработки"
   ]
  },
  {
   "cell_type": "code",
   "execution_count": null,
   "id": "a0d65c46",
   "metadata": {},
   "outputs": [],
   "source": [
    "Полученное решение с помощью метода RandomForest можно попробовать доработать, \n",
    "убрав менее значимые параметры."
   ]
  },
  {
   "cell_type": "code",
   "execution_count": 54,
   "id": "4932c8f5",
   "metadata": {},
   "outputs": [],
   "source": [
    "X = df_test.drop(' shares', axis = 1)\n",
    "y = df_test[' shares']\n",
    "y = y.astype(int)"
   ]
  },
  {
   "cell_type": "code",
   "execution_count": 44,
   "id": "a570faa1",
   "metadata": {},
   "outputs": [],
   "source": [
    "scaler = StandardScaler()\n",
    "scaler.fit(X)\n",
    "X = scaler.transform(X)"
   ]
  },
  {
   "cell_type": "code",
   "execution_count": 45,
   "id": "8b57d2bb",
   "metadata": {},
   "outputs": [],
   "source": [
    "X_train, X_test, y_train, y_test = train_test_split(X, y, test_size = 0.33, random_state = 777)"
   ]
  },
  {
   "cell_type": "code",
   "execution_count": 46,
   "id": "02b92901",
   "metadata": {},
   "outputs": [
    {
     "name": "stdout",
     "output_type": "stream",
     "text": [
      "Fitting 3 folds for each of 40 candidates, totalling 120 fits\n",
      "{'criterion': 'gini', 'max_depth': 8, 'max_features': 'sqrt', 'n_estimators': 500}\n",
      "0.6637551670210694\n"
     ]
    }
   ],
   "source": [
    "rfc = RandomForestClassifier()\n",
    "param_grid = {\n",
    "    'n_estimators': [200, 500],\n",
    "    'max_features': ['auto', 'sqrt'],\n",
    "    'max_depth' : [4,5,6,7,8],\n",
    "    'criterion' :['gini', 'entropy']\n",
    "    }\n",
    "grid_search = GridSearchCV(rfc, param_grid, cv=3, scoring='accuracy', return_train_score=False, verbose=1)\n",
    "grid_search.fit(X_train, y_train)\n",
    "print(grid_search.best_params_)\n",
    "print(grid_search.best_score_)"
   ]
  },
  {
   "cell_type": "code",
   "execution_count": 47,
   "id": "1aa08d0e",
   "metadata": {},
   "outputs": [
    {
     "name": "stdout",
     "output_type": "stream",
     "text": [
      "              precision    recall  f1-score   support\n",
      "\n",
      "           0       0.67      0.56      0.61      6134\n",
      "           1       0.66      0.76      0.71      6949\n",
      "\n",
      "    accuracy                           0.67     13083\n",
      "   macro avg       0.67      0.66      0.66     13083\n",
      "weighted avg       0.67      0.67      0.66     13083\n",
      "\n"
     ]
    }
   ],
   "source": [
    "rfc = grid_search.best_estimator_\n",
    "rfc.fit(X_train, y_train)\n",
    "y_pred = (grid_search.predict_proba(X_test)[:, 1] > 0.5).astype(int)\n",
    "print(metrics.classification_report(y_test, y_pred))"
   ]
  },
  {
   "cell_type": "code",
   "execution_count": 56,
   "id": "b804fbce",
   "metadata": {},
   "outputs": [
    {
     "data": {
      "image/png": "[encoded data removed]",
      "text/plain": [
       "<Figure size 1296x576 with 1 Axes>"
      ]
     },
     "metadata": {
      "needs_background": "light"
     },
     "output_type": "display_data"
    }
   ],
   "source": [
    "importance = rfc.feature_importances_\n",
    "plt.figure(figsize=(18, 8))\n",
    "plt.bar([x for x in range(1, 46)], importance)\n",
    "plt.show()"
   ]
  }
 ],
 "metadata": {
  "kernelspec": {
   "display_name": "Python 3 (ipykernel)",
   "language": "python",
   "name": "python3"
  },
  "language_info": {
   "codemirror_mode": {
    "name": "ipython",
    "version": 3
   },
   "file_extension": ".py",
   "mimetype": "text/x-python",
   "name": "python",
   "nbconvert_exporter": "python",
   "pygments_lexer": "ipython3",
   "version": "3.10.9"
  }
 },
 "nbformat": 4,
 "nbformat_minor": 5
}
